{
 "cells": [
  {
   "cell_type": "code",
   "execution_count": 1,
   "id": "34dc4191",
   "metadata": {},
   "outputs": [],
   "source": [
    "# Import the random module.\n",
    "import random"
   ]
  },
  {
   "cell_type": "code",
   "execution_count": 2,
   "id": "a5c09194",
   "metadata": {},
   "outputs": [
    {
     "data": {
      "text/plain": [
       "35"
      ]
     },
     "execution_count": 2,
     "metadata": {},
     "output_type": "execute_result"
    }
   ],
   "source": [
    "random.randint(-90,90)"
   ]
  },
  {
   "cell_type": "code",
   "execution_count": 3,
   "id": "cfecc4f9",
   "metadata": {},
   "outputs": [
    {
     "data": {
      "text/plain": [
       "0.41403660087383876"
      ]
     },
     "execution_count": 3,
     "metadata": {},
     "output_type": "execute_result"
    }
   ],
   "source": [
    "random.random()"
   ]
  },
  {
   "cell_type": "code",
   "execution_count": 5,
   "id": "ed5c26c4",
   "metadata": {},
   "outputs": [
    {
     "data": {
      "text/plain": [
       "-79.53749708813268"
      ]
     },
     "execution_count": 5,
     "metadata": {},
     "output_type": "execute_result"
    }
   ],
   "source": [
    "random_number = random.randint(-90,89) + random.random()\n",
    "random_number"
   ]
  },
  {
   "cell_type": "code",
   "execution_count": 6,
   "id": "2e379b96",
   "metadata": {},
   "outputs": [
    {
     "name": "stdout",
     "output_type": "stream",
     "text": [
      "[51.741671289273036, 57.46664218718814, -39.53388780358951, 74.90450157477153, -70.66161851532075, 2.5599763873822936, -19.391651470436326, -12.50261972777384, 83.25307178165694, 14.027661266874452]\n"
     ]
    }
   ],
   "source": [
    "x = 1\n",
    "latitudes = []\n",
    "while x < 11:\n",
    "    random_lat = random.randint(-90, 89) + random.random()\n",
    "    latitudes.append(random_lat)\n",
    "    x += 1\n",
    "print (latitudes)"
   ]
  },
  {
   "cell_type": "code",
   "execution_count": 7,
   "id": "e24d3b96",
   "metadata": {},
   "outputs": [
    {
     "name": "stdout",
     "output_type": "stream",
     "text": [
      "[23.900139993307818, 143.30886291321914, -49.76909882296296, 158.5322948571458, -124.77243335627256, 47.34181792167662, -25.93986967276731, 17.583523562181234, -113.24040055186629, -48.4568499180074]\n"
     ]
    }
   ],
   "source": [
    "x = 1\n",
    "longitudes = []\n",
    "while x < 11:\n",
    "    random_lat = random.randint(-180, 179) + random.random()\n",
    "    longitudes.append(random_lat)\n",
    "    x += 1\n",
    "print (longitudes)"
   ]
  },
  {
   "cell_type": "code",
   "execution_count": 8,
   "id": "30b25b59",
   "metadata": {},
   "outputs": [
    {
     "data": {
      "text/plain": [
       "77"
      ]
     },
     "execution_count": 8,
     "metadata": {},
     "output_type": "execute_result"
    }
   ],
   "source": [
    "random.randrange(-90, 90, step=1)"
   ]
  },
  {
   "cell_type": "code",
   "execution_count": 9,
   "id": "3515595e",
   "metadata": {},
   "outputs": [
    {
     "data": {
      "text/plain": [
       "-18"
      ]
     },
     "execution_count": 9,
     "metadata": {},
     "output_type": "execute_result"
    }
   ],
   "source": [
    "random.randrange(-90, 90, step=3)"
   ]
  },
  {
   "cell_type": "code",
   "execution_count": 10,
   "id": "1026eceb",
   "metadata": {},
   "outputs": [
    {
     "data": {
      "text/plain": [
       "-57.31146671683432"
      ]
     },
     "execution_count": 10,
     "metadata": {},
     "output_type": "execute_result"
    }
   ],
   "source": [
    "random.uniform(-90, 90)"
   ]
  },
  {
   "cell_type": "code",
   "execution_count": 11,
   "id": "647edd32",
   "metadata": {},
   "outputs": [],
   "source": [
    "# Import the NumPy module.\n",
    "import numpy as np"
   ]
  },
  {
   "cell_type": "code",
   "execution_count": 12,
   "id": "59968382",
   "metadata": {},
   "outputs": [
    {
     "data": {
      "text/plain": [
       "35.049224050197"
      ]
     },
     "execution_count": 12,
     "metadata": {},
     "output_type": "execute_result"
    }
   ],
   "source": [
    "np.random.uniform(-90.000, 90.000)"
   ]
  },
  {
   "cell_type": "code",
   "execution_count": 13,
   "id": "32f1801c",
   "metadata": {},
   "outputs": [
    {
     "data": {
      "text/plain": [
       "58.06092679988885"
      ]
     },
     "execution_count": 13,
     "metadata": {},
     "output_type": "execute_result"
    }
   ],
   "source": [
    "np.random.uniform(low=-90, high=90)"
   ]
  },
  {
   "cell_type": "code",
   "execution_count": 14,
   "id": "a60f6abe",
   "metadata": {},
   "outputs": [
    {
     "data": {
      "text/plain": [
       "array([ 53.10165194, -13.9577278 ,   6.736391  ,  89.06190364,\n",
       "        73.20358416,  63.8840283 ,  86.55559581, -17.73384975,\n",
       "       -71.82513119, -15.11815611, -40.84985386,  70.12571127,\n",
       "       -27.1682515 , -73.28497025,  35.94255667,  28.54050829,\n",
       "        37.9473641 , -80.80753214, -25.45984075,  81.34760858,\n",
       "        74.01613827,  15.97994795,  71.84370592,  50.64502588,\n",
       "        33.11194604, -54.11597779,  69.7837479 , -32.29367863,\n",
       "       -74.1032245 ,  51.83601852,  67.64062705,  27.82096401,\n",
       "       -65.33342989, -34.26868473, -17.75498907, -10.73895149,\n",
       "       -72.81208677,  66.39979099, -13.07509965,  74.8883585 ,\n",
       "        72.74932973,  78.92497559, -19.28130836,  35.98319586,\n",
       "        35.04457693,  72.30916064, -69.43628699,  66.27021526,\n",
       "         3.01207871, -19.87407746])"
      ]
     },
     "execution_count": 14,
     "metadata": {},
     "output_type": "execute_result"
    }
   ],
   "source": [
    "np.random.uniform(-90.000, 90.000, size=50)"
   ]
  },
  {
   "cell_type": "code",
   "execution_count": 15,
   "id": "402ed71a",
   "metadata": {},
   "outputs": [],
   "source": [
    "# Import timeit.\n",
    "import timeit"
   ]
  },
  {
   "cell_type": "code",
   "execution_count": 16,
   "id": "3e965402",
   "metadata": {},
   "outputs": [
    {
     "data": {
      "text/plain": [
       "array([ 74.95611408, -82.67498422,  33.58340932, ..., -12.54090153,\n",
       "       -43.6308073 ,  -4.55086791])"
      ]
     },
     "execution_count": 16,
     "metadata": {},
     "output_type": "execute_result"
    }
   ],
   "source": [
    "np.random.uniform(-90.000, 90.000, size=1500)"
   ]
  },
  {
   "cell_type": "code",
   "execution_count": 17,
   "id": "ce0f774c",
   "metadata": {},
   "outputs": [
    {
     "data": {
      "text/plain": [
       "array([-61.90074564, -10.30793561,  41.29616758, ..., -78.46308463,\n",
       "        12.41895192,  60.9333753 ])"
      ]
     },
     "execution_count": 17,
     "metadata": {},
     "output_type": "execute_result"
    }
   ],
   "source": [
    "%timeit\n",
    "np.random.uniform(-90.000, 90.000, size=1500)\n"
   ]
  },
  {
   "cell_type": "code",
   "execution_count": 18,
   "id": "5d5f6b86",
   "metadata": {},
   "outputs": [
    {
     "name": "stdout",
     "output_type": "stream",
     "text": [
      "27 µs ± 2.95 µs per loop (mean ± std. dev. of 7 runs, 10000 loops each)\n"
     ]
    }
   ],
   "source": [
    "%timeit np.random.uniform(-90.000, 90.000, size=1500)"
   ]
  },
  {
   "cell_type": "code",
   "execution_count": null,
   "id": "52049ab7",
   "metadata": {},
   "outputs": [],
   "source": []
  }
 ],
 "metadata": {
  "kernelspec": {
   "display_name": "PythonData",
   "language": "python",
   "name": "pythondata"
  },
  "language_info": {
   "codemirror_mode": {
    "name": "ipython",
    "version": 3
   },
   "file_extension": ".py",
   "mimetype": "text/x-python",
   "name": "python",
   "nbconvert_exporter": "python",
   "pygments_lexer": "ipython3",
   "version": "3.8.8"
  }
 },
 "nbformat": 4,
 "nbformat_minor": 5
}
